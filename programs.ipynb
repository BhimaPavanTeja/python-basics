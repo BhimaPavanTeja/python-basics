{
 "cells": [
  {
   "cell_type": "code",
   "execution_count": 9,
   "id": "ca1e58df",
   "metadata": {},
   "outputs": [
    {
     "name": "stdout",
     "output_type": "stream",
     "text": [
      "Same\n"
     ]
    }
   ],
   "source": [
    "a=5\n",
    "b=5\n",
    "z=10\n",
    "A=5\n",
    "if(id(a)==id(A)):\n",
    "    print(\"Same\")\n",
    "else:\n",
    "    print(\"Different\")"
   ]
  },
  {
   "cell_type": "code",
   "execution_count": 10,
   "id": "eec94189",
   "metadata": {},
   "outputs": [
    {
     "name": "stdout",
     "output_type": "stream",
     "text": [
      "10\n",
      "10\n"
     ]
    }
   ],
   "source": [
    "print(x:=10)\n",
    "print(x)"
   ]
  },
  {
   "cell_type": "code",
   "execution_count": 11,
   "id": "d1a8d441",
   "metadata": {},
   "outputs": [
    {
     "name": "stdout",
     "output_type": "stream",
     "text": [
      "0.5\n",
      "0.30000000000000004\n"
     ]
    }
   ],
   "source": [
    "print(0.2+0.3)\n",
    "print(0.1+0.2)"
   ]
  },
  {
   "cell_type": "code",
   "execution_count": 12,
   "id": "178b5df7",
   "metadata": {},
   "outputs": [
    {
     "name": "stdout",
     "output_type": "stream",
     "text": [
      "2\n"
     ]
    }
   ],
   "source": [
    "n = int(input())\n",
    "r=0\n",
    "while n>0:\n",
    "    r = r*10 + n%10\n",
    "    n = n//10\n",
    "print(r)"
   ]
  },
  {
   "cell_type": "code",
   "execution_count": 13,
   "id": "8e830f65",
   "metadata": {},
   "outputs": [
    {
     "name": "stdout",
     "output_type": "stream",
     "text": [
      "2\n",
      "10\n"
     ]
    }
   ],
   "source": [
    "a=5\n",
    "#right shift [ x / (2^y) ]\n",
    "print(a>>1)\n",
    "#left shift [ x * (2^y) ]\n",
    "print(a<<1)"
   ]
  },
  {
   "cell_type": "code",
   "execution_count": 14,
   "id": "809a2335",
   "metadata": {},
   "outputs": [
    {
     "name": "stdout",
     "output_type": "stream",
     "text": [
      "True\n"
     ]
    }
   ],
   "source": [
    "a=10\n",
    "a&=1\n",
    "print(a==0)"
   ]
  },
  {
   "cell_type": "code",
   "execution_count": 15,
   "id": "8656116e",
   "metadata": {},
   "outputs": [
    {
     "name": "stdout",
     "output_type": "stream",
     "text": [
      "John\n",
      "Jane\n",
      "Doe\n"
     ]
    }
   ],
   "source": [
    "names = [\"John\", \"Jane\", \"Doe\"]\n",
    "a,b,c = names\n",
    "print(a)\n",
    "print(b)\n",
    "print(c)"
   ]
  },
  {
   "cell_type": "code",
   "execution_count": 16,
   "id": "3f388fce",
   "metadata": {},
   "outputs": [
    {
     "name": "stdout",
     "output_type": "stream",
     "text": [
      "<memory at 0x00000215A8A28F40>\n"
     ]
    }
   ],
   "source": [
    "c = b\"example\"\n",
    "print(memoryview(c))"
   ]
  },
  {
   "cell_type": "code",
   "execution_count": 17,
   "id": "2ea9232b",
   "metadata": {},
   "outputs": [
    {
     "name": "stdout",
     "output_type": "stream",
     "text": [
      "4\n",
      "2025-05-06 13:44:45.721134\n"
     ]
    }
   ],
   "source": [
    "import random\n",
    "print(random.randrange(1, 10))\n",
    "import datetime\n",
    "print(datetime.datetime.now())"
   ]
  },
  {
   "cell_type": "code",
   "execution_count": 18,
   "id": "8d2c41c8",
   "metadata": {},
   "outputs": [
    {
     "name": "stdout",
     "output_type": "stream",
     "text": [
      "A\n",
      "range(1, 11, 2)\n"
     ]
    }
   ],
   "source": [
    "a=65\n",
    "print(chr(a))\n",
    "print(range(1,11,2))"
   ]
  },
  {
   "cell_type": "code",
   "execution_count": 19,
   "id": "508c4244",
   "metadata": {},
   "outputs": [
    {
     "name": "stdout",
     "output_type": "stream",
     "text": [
      "1\n",
      "23\n"
     ]
    }
   ],
   "source": [
    "a = 23\n",
    "print(a & 1)\n",
    "print(a | 1)"
   ]
  },
  {
   "cell_type": "code",
   "execution_count": 20,
   "id": "31a99f07",
   "metadata": {},
   "outputs": [
    {
     "name": "stdout",
     "output_type": "stream",
     "text": [
      "Your age is 22\n"
     ]
    }
   ],
   "source": [
    "a = int(input(\"enter age: \"))\n",
    "print(f\"Your age is {a}\")"
   ]
  },
  {
   "cell_type": "code",
   "execution_count": 21,
   "id": "6e1d70de",
   "metadata": {},
   "outputs": [
    {
     "name": "stdout",
     "output_type": "stream",
     "text": [
      "1\n",
      "1\n"
     ]
    }
   ],
   "source": [
    "#without using % operator\n",
    "n = 5\n",
    "print(n % 2)\n",
    "print(n - (n // 2) * 2)"
   ]
  },
  {
   "cell_type": "code",
   "execution_count": 22,
   "id": "f057690c",
   "metadata": {},
   "outputs": [
    {
     "name": "stdout",
     "output_type": "stream",
     "text": [
      "['Hello', 'World!']\n",
      "!dlroW olleH\n"
     ]
    }
   ],
   "source": [
    "Sample = \"Hello World!\"\n",
    "print(Sample.split(\" \"))\n",
    "print(Sample[::-1])"
   ]
  },
  {
   "cell_type": "code",
   "execution_count": 23,
   "id": "ff8f5204",
   "metadata": {},
   "outputs": [
    {
     "name": "stdout",
     "output_type": "stream",
     "text": [
      "1\n"
     ]
    }
   ],
   "source": [
    "def function_Sample():\n",
    "    return 1\n",
    "a=function_Sample()\n",
    "print(a)"
   ]
  },
  {
   "cell_type": "code",
   "execution_count": 24,
   "id": "4d7c7b99",
   "metadata": {},
   "outputs": [
    {
     "name": "stdout",
     "output_type": "stream",
     "text": [
      "Hello World!\n"
     ]
    }
   ],
   "source": [
    "if print(\"Hello World!\"): # it will print \"Hello World!\" and return None, print function exits\n",
    "    print(\"True\")"
   ]
  },
  {
   "cell_type": "code",
   "execution_count": 25,
   "id": "433727f3",
   "metadata": {},
   "outputs": [
    {
     "name": "stdout",
     "output_type": "stream",
     "text": [
      "True\n"
     ]
    }
   ],
   "source": [
    "a=12\n",
    "if (a:=a+1)==13:\n",
    "    print(\"True\")"
   ]
  },
  {
   "cell_type": "code",
   "execution_count": 26,
   "id": "cb791697",
   "metadata": {},
   "outputs": [
    {
     "name": "stdout",
     "output_type": "stream",
     "text": [
      "1.5\n"
     ]
    }
   ],
   "source": [
    "a=3\n",
    "b=2\n",
    "c='/'\n",
    "if c=='+':\n",
    "    print(a+b)\n",
    "elif c=='-':\n",
    "    print(a-b)\n",
    "elif c=='*':\n",
    "    print(a*b)\n",
    "elif c=='/':\n",
    "    print((a/b) if b!=0 else \"Division by zero\")\n",
    "else:\n",
    "    print(\"Invalid operator\")"
   ]
  },
  {
   "cell_type": "code",
   "execution_count": 27,
   "id": "e46864d1",
   "metadata": {},
   "outputs": [
    {
     "name": "stdout",
     "output_type": "stream",
     "text": [
      "A\n"
     ]
    }
   ],
   "source": [
    "m = float(input(\"enter marks: \"))\n",
    "if(m>90):\n",
    "    print(\"A+\")\n",
    "elif(m>=80):\n",
    "    print(\"A\")\n",
    "elif(m>=70):\n",
    "    print(\"B\")\n",
    "elif(m>=60):\n",
    "    print(\"C\")\n",
    "else:\n",
    "    print(\"D\")"
   ]
  },
  {
   "cell_type": "code",
   "execution_count": 29,
   "id": "22007d59",
   "metadata": {},
   "outputs": [
    {
     "name": "stdout",
     "output_type": "stream",
     "text": [
      "it is not divisible by 3 and 5\n"
     ]
    }
   ],
   "source": [
    "n = int(input(\"Enter a number: \"))\n",
    "if(n%3==0 and n%5==0):\n",
    "    print(\"duggo\" if n!=0 else \"not divisible by 3 and 5\")\n",
    "elif(n%3==0):\n",
    "    print(\"dug\" if n!=0 else \"not divisible by 3 and 5\")\n",
    "elif(n%5==0):\n",
    "    print(\"go\" if n!=0 else \"not divisible by 3 and 5\")\n",
    "else:\n",
    "    print(\"it is not divisible by 3 and 5\")"
   ]
  },
  {
   "cell_type": "code",
   "execution_count": 8,
   "id": "e0540113",
   "metadata": {},
   "outputs": [
    {
     "name": "stdout",
     "output_type": "stream",
     "text": [
      "vowel\n"
     ]
    }
   ],
   "source": [
    "c='a'\n",
    "if c.isalpha():\n",
    "    if c.lower() in 'aeiou':\n",
    "        print(\"vowel\")\n",
    "    else:\n",
    "        print(\"consonant\")\n",
    "elif c.isdigit():\n",
    "    print(\"digit\")\n",
    "else:\n",
    "    print(\"special character\")"
   ]
  },
  {
   "cell_type": "code",
   "execution_count": 30,
   "id": "2217798e",
   "metadata": {},
   "outputs": [
    {
     "name": "stdout",
     "output_type": "stream",
     "text": [
      "2024 is a leap year\n"
     ]
    }
   ],
   "source": [
    "#leap year check\n",
    "year = int(input(\"Enter a year: \"))\n",
    "if (year % 4 == 0 and year % 100 != 0) or (year % 400 == 0):\n",
    "    print(f\"{year} is a leap year\")\n",
    "else:\n",
    "    print(f\"{year} is not a leap year\")"
   ]
  },
  {
   "cell_type": "code",
   "execution_count": 31,
   "id": "941254d3",
   "metadata": {},
   "outputs": [
    {
     "name": "stdout",
     "output_type": "stream",
     "text": [
      "Withdrawing 2000\n",
      "Withdrawal successful!\n",
      " New balance: 58000\n",
      "Your balance is: 58000\n",
      "Your balance is: 58000\n",
      "Depositing 1000\n",
      "Deposit successful!\n",
      " New balance: 59000\n",
      "Exiting...\n"
     ]
    }
   ],
   "source": [
    "#ATM Simulation\n",
    "ch = int(input(\n",
    "    \"enter 1 for withdraw\\n\"\n",
    "    \"enter 2 for deposit\\n\"\n",
    "    \"enter 3 for balance\\n\"\n",
    "    \"enter 4 for exit\\n\"\n",
    "))\n",
    "balance = 60000\n",
    "\n",
    "while True:\n",
    "    if(ch==1):\n",
    "        amount = int(input(\"Enter amount to withdraw: \"))\n",
    "        if amount > 0:\n",
    "            print(f\"Withdrawing {amount}\")\n",
    "            if amount <= balance:\n",
    "                balance -= amount\n",
    "                print(f\"Withdrawal successful!\\n New balance: {balance}\")\n",
    "            else:\n",
    "                print(\"Insufficient funds\")\n",
    "        else:\n",
    "            print(\"Invalid amount\")\n",
    "    elif(ch==2):\n",
    "        amount = int(input(\"Enter amount to deposit: \"))\n",
    "        if amount > 0:\n",
    "            print(f\"Depositing {amount}\")\n",
    "            balance += amount\n",
    "            print(f\"Deposit successful!\\n New balance: {balance}\")\n",
    "        else:\n",
    "            print(\"Invalid amount\")\n",
    "    elif(ch==3):\n",
    "        print(f\"Your balance is: {balance}\")\n",
    "    elif(ch==4):\n",
    "        print(\"Exiting...\")\n",
    "        break\n",
    "    else:\n",
    "        print(\"Invalid choice\")\n",
    "    \n",
    "    ch = int(input(\n",
    "        \"\\nenter 1 for withdraw\\n\"\n",
    "        \"enter 2 for deposit\\n\"\n",
    "        \"enter 3 for balance\\n\"\n",
    "        \"enter 4 for exit\\n\"\n",
    "    ))"
   ]
  },
  {
   "cell_type": "code",
   "execution_count": null,
   "id": "b2c55adc",
   "metadata": {},
   "outputs": [
    {
     "name": "stdout",
     "output_type": "stream",
     "text": [
      "4\n",
      "True\n"
     ]
    }
   ],
   "source": [
    "#prime numbers\n",
    "def is_prime(num):\n",
    "    if num < 2:\n",
    "        return False\n",
    "    for i in range(2, int(num**0.5) + 1): \n",
    "        if num % i == 0:\n",
    "            return False\n",
    "    return True\n",
    "n = 11\n",
    "print(int(n**0.5) + 1)\n",
    "print(is_prime(n))"
   ]
  },
  {
   "cell_type": "code",
   "execution_count": null,
   "id": "2f25efa5",
   "metadata": {},
   "outputs": [
    {
     "name": "stdout",
     "output_type": "stream",
     "text": [
      "True\n"
     ]
    }
   ],
   "source": [
    "#check armstrong number\n",
    "def is_armstrong(num):\n",
    "    n = str(num)\n",
    "    l = len(n)\n",
    "    sum_of_powers = sum(int(digit) ** l for digit in n)\n",
    "    return sum_of_powers == num\n",
    "n = 1634\n",
    "print(is_armstrong(n))"
   ]
  },
  {
   "cell_type": "code",
   "execution_count": 72,
   "id": "69afe78a",
   "metadata": {},
   "outputs": [
    {
     "name": "stdout",
     "output_type": "stream",
     "text": [
      "Palindrome\n"
     ]
    }
   ],
   "source": [
    "#palindrome check\n",
    "n = 121\n",
    "r = 0\n",
    "temp = n\n",
    "while n > 0:\n",
    "    r = r * 10 + n % 10\n",
    "    n = n // 10\n",
    "if r == temp:\n",
    "    print(\"Palindrome\")\n",
    "else:\n",
    "    print(\"Not a palindrome\")"
   ]
  },
  {
   "cell_type": "code",
   "execution_count": 45,
   "id": "398d7d8d",
   "metadata": {},
   "outputs": [
    {
     "name": "stdout",
     "output_type": "stream",
     "text": [
      "* * * * * \n",
      "* * * * * \n",
      "* * * * * \n",
      "* * * * * \n",
      "* * * * * \n"
     ]
    }
   ],
   "source": [
    "#sqaure pattern\n",
    "n=5\n",
    "for i in range(n):\n",
    "    for j in range(n):\n",
    "        print(\"*\", end=\" \")\n",
    "    print() # to move to the next line"
   ]
  },
  {
   "cell_type": "code",
   "execution_count": 54,
   "id": "0e7c2140",
   "metadata": {},
   "outputs": [
    {
     "name": "stdout",
     "output_type": "stream",
     "text": [
      "\n",
      "* \n",
      "* * \n",
      "* * * \n",
      "* * * * \n",
      "* * * * * \n"
     ]
    }
   ],
   "source": [
    "#right triangle pattern\n",
    "n=5\n",
    "for i in range(n+1):\n",
    "    for j in range(i):\n",
    "        print(\"*\", end=\" \")\n",
    "    print()"
   ]
  },
  {
   "cell_type": "code",
   "execution_count": 59,
   "id": "05e5b954",
   "metadata": {},
   "outputs": [
    {
     "name": "stdout",
     "output_type": "stream",
     "text": [
      "* * * * * \n",
      "* * * *   \n",
      "* * *     \n",
      "* *       \n",
      "*         \n"
     ]
    }
   ],
   "source": [
    "n = 5\n",
    "for i in range(n):\n",
    "    for j in range(n-i):\n",
    "        print(\"*\", end=\" \")\n",
    "    for j in range(i):\n",
    "        print(\" \", end=\" \")\n",
    "    print()"
   ]
  },
  {
   "cell_type": "code",
   "execution_count": 60,
   "id": "8061382b",
   "metadata": {},
   "outputs": [
    {
     "name": "stdout",
     "output_type": "stream",
     "text": [
      "        * \n",
      "      * * \n",
      "    * * * \n",
      "  * * * * \n",
      "* * * * * \n"
     ]
    }
   ],
   "source": [
    "n = 5\n",
    "for i in range(n):\n",
    "    for j in range(n-i-1):\n",
    "        print(\" \", end=\" \")\n",
    "    for j in range(i+1):\n",
    "        print(\"*\", end=\" \")\n",
    "    print()"
   ]
  },
  {
   "cell_type": "code",
   "execution_count": 61,
   "id": "1f5efd6f",
   "metadata": {},
   "outputs": [
    {
     "name": "stdout",
     "output_type": "stream",
     "text": [
      "* * * * * \n",
      "*       * \n",
      "*       * \n",
      "*       * \n",
      "* * * * * \n"
     ]
    }
   ],
   "source": [
    "n=5\n",
    "for i in range(n):\n",
    "    for j in range(n):\n",
    "        if(i==0 or i==n-1 or j==0 or j==n-1):\n",
    "            print(\"*\", end=\" \")\n",
    "        else:\n",
    "            print(\" \", end=\" \")\n",
    "    print()"
   ]
  },
  {
   "cell_type": "code",
   "execution_count": 66,
   "id": "00c11bb2",
   "metadata": {},
   "outputs": [
    {
     "name": "stdout",
     "output_type": "stream",
     "text": [
      "* * * * * \n",
      "  *       \n",
      "    *     \n",
      "      *   \n",
      "* * * * * \n"
     ]
    }
   ],
   "source": [
    "#reverse z pattern\n",
    "n=5\n",
    "for i in range(n):\n",
    "    for j in range(n):\n",
    "        if(i==0 or i==n-1 or i==j):\n",
    "            print(\"*\", end=\" \")\n",
    "        else:\n",
    "            print(\" \", end=\" \")\n",
    "    print()"
   ]
  },
  {
   "cell_type": "code",
   "execution_count": null,
   "id": "9a6e3afc",
   "metadata": {},
   "outputs": [
    {
     "name": "stdout",
     "output_type": "stream",
     "text": [
      "\n",
      "1 \n",
      "2 3 \n",
      "4 5 6 \n",
      "7 8 9 10 \n",
      "11 12 13 14 15 \n"
     ]
    }
   ],
   "source": [
    "n = 5\n",
    "t = 1\n",
    "for i in range(n+1):\n",
    "    for j in range(i):\n",
    "        print(t, end=\" \")\n",
    "        t += 1\n",
    "    print()"
   ]
  },
  {
   "cell_type": "code",
   "execution_count": 76,
   "id": "3d1a22c1",
   "metadata": {},
   "outputs": [
    {
     "name": "stdout",
     "output_type": "stream",
     "text": [
      "* * * * * \n",
      "  *   *   \n",
      "    *     \n",
      "  *   *   \n",
      "* * * * * \n"
     ]
    }
   ],
   "source": [
    "n=5\n",
    "for i in range(n):\n",
    "    for j in range(n):\n",
    "        if(i==0 or i==n-1 or i==j or i+j==n-1):\n",
    "            print(\"*\", end=\" \")\n",
    "        else:\n",
    "            print(\" \", end=\" \")\n",
    "    print()"
   ]
  },
  {
   "cell_type": "code",
   "execution_count": null,
   "id": "dcc66edb",
   "metadata": {},
   "outputs": [
    {
     "name": "stdout",
     "output_type": "stream",
     "text": [
      "[22, 11, 444, 77]\n"
     ]
    }
   ],
   "source": [
    "l = [23, 24, 22, 11, 444, 34, 77, 1]\n",
    "result = []\n",
    "\n",
    "for num in l:\n",
    "    k = str(num)\n",
    "    for digit in k:\n",
    "        if k.count(digit) > 1:\n",
    "            result.append(num)\n",
    "            break\n",
    "\n",
    "print(result)  # Expected output: [22, 11, 444, 77]\n"
   ]
  },
  {
   "cell_type": "code",
   "execution_count": 1,
   "id": "162774ea",
   "metadata": {},
   "outputs": [
    {
     "name": "stdout",
     "output_type": "stream",
     "text": [
      "3 21\n"
     ]
    }
   ],
   "source": [
    "list1=[2,3,212,21,23,43]\n",
    "target=24 # sum of two values\n",
    "\n",
    "left = 0\n",
    "right = len(list1) - 1\n",
    "\n",
    "while left < right:\n",
    "    sum = list1[left] + list1[right]\n",
    "    if sum == target:\n",
    "        print(list1[left], list1[right])\n",
    "        left += 1 #break if you want only one pair\n",
    "        right -= 1\n",
    "    elif sum < target:\n",
    "        left += 1\n",
    "    else:\n",
    "        right -= 1"
   ]
  },
  {
   "cell_type": "code",
   "execution_count": 70,
   "id": "ae761919",
   "metadata": {},
   "outputs": [
    {
     "name": "stdout",
     "output_type": "stream",
     "text": [
      "9\n"
     ]
    }
   ],
   "source": [
    "m = 4\n",
    "a = [4, 13, 2, 1]\n",
    "for j in range(4):\n",
    "    if j > 1:\n",
    "        m = m + a[j]\n",
    "    elif j > 2:\n",
    "        continue\n",
    "    else:\n",
    "        m = m + 1\n",
    "print(m)"
   ]
  },
  {
   "cell_type": "code",
   "execution_count": null,
   "id": "4ffacb21",
   "metadata": {},
   "outputs": [
    {
     "name": "stdout",
     "output_type": "stream",
     "text": [
      "   1\n",
      "  121\n",
      " 12321\n",
      "1234321\n"
     ]
    }
   ],
   "source": [
    "#pascal triangle\n",
    "\"\"\"\n",
    "   1\n",
    "  121\n",
    " 12321\n",
    "1234321\n",
    "\"\"\"\n",
    "\n",
    "n = 4\n",
    "for i in range(1, n + 1):\n",
    "    print(\" \" * (n - i),end=\"\")\n",
    "    for j in range(1, i + 1):\n",
    "        print(j, end=\"\") # ascending order\n",
    "    for j in range(i - 1, 0, -1):\n",
    "        print(j, end=\"\") # descending order\n",
    "    print()\n"
   ]
  },
  {
   "cell_type": "code",
   "execution_count": 155,
   "id": "2f732164",
   "metadata": {},
   "outputs": [
    {
     "name": "stdout",
     "output_type": "stream",
     "text": [
      "   *\n",
      "  * *\n",
      " *   *\n",
      "*     *\n",
      " *   *\n",
      "  * *\n",
      "   *\n"
     ]
    }
   ],
   "source": [
    "#diamond pattern\n",
    "n = 4\n",
    "for i in range(1, n + 1):\n",
    "    print(\" \" * (n - i), end=\"\")\n",
    "    for j in range(1, 2 * i):\n",
    "        if j == 1 or j == 2 * i - 1:\n",
    "            print(\"*\", end=\"\")\n",
    "        else:\n",
    "            print(\" \", end=\"\")\n",
    "    print()\n",
    "\n",
    "for i in range(n - 1, 0, -1):\n",
    "    print(\" \" * (n - i), end=\"\")\n",
    "    for j in range(1, 2 * i):\n",
    "        if j == 1 or j == 2 * i - 1:\n",
    "            print(\"*\", end=\"\")\n",
    "        else:\n",
    "            print(\" \", end=\"\")\n",
    "    print()"
   ]
  },
  {
   "cell_type": "code",
   "execution_count": 12,
   "id": "2274c7e4",
   "metadata": {},
   "outputs": [
    {
     "name": "stdout",
     "output_type": "stream",
     "text": [
      "[1, 3, 12, 0, 0]\n"
     ]
    }
   ],
   "source": [
    "#input: nums = [0,1,0,3,12]\n",
    "#output: [1,3,12,0,0]\n",
    "\n",
    "nums = [0,1,0,3,12]\n",
    "temp = 0\n",
    "for i in range(len(nums)):\n",
    "    if nums[i] != 0:\n",
    "        nums[temp] = nums[i]\n",
    "        temp += 1\n",
    "for i in range(temp, len(nums)):\n",
    "    nums[i] = 0\n",
    "print(nums)"
   ]
  },
  {
   "cell_type": "code",
   "execution_count": 13,
   "id": "47d5c07d",
   "metadata": {},
   "outputs": [
    {
     "name": "stdout",
     "output_type": "stream",
     "text": [
      "1 2 3 4 5 6 \n"
     ]
    }
   ],
   "source": [
    "list1 = [[1,2,3],[4,5,6]]\n",
    "for i in list1:\n",
    "    for j in i:\n",
    "        print(j, end=\" \")\n",
    "print()"
   ]
  },
  {
   "cell_type": "code",
   "execution_count": null,
   "id": "0acc1552",
   "metadata": {},
   "outputs": [
    {
     "name": "stdout",
     "output_type": "stream",
     "text": [
      "1 2 3 4 8 12 16 15 14 13 9 5 6 7 11 10\n"
     ]
    }
   ],
   "source": [
    "def spiralMatrix(mat):\n",
    "    m, n = len(mat), len(mat[0])\n",
    "    res = []\n",
    "    top, bottom, left, right = 0, m - 1, 0, n - 1\n",
    "    while top <= bottom and left <= right:\n",
    "\n",
    "        for i in range(left, right + 1):\n",
    "            res.append(mat[top][i])\n",
    "        top += 1\n",
    "\n",
    "        for i in range(top, bottom + 1):\n",
    "            res.append(mat[i][right])\n",
    "        right -= 1\n",
    "\n",
    "        if top <= bottom:\n",
    "            for i in range(right, left - 1, -1):\n",
    "                res.append(mat[bottom][i])\n",
    "            bottom -= 1\n",
    "\n",
    "        if left <= right:\n",
    "            for i in range(bottom, top - 1, -1):\n",
    "                res.append(mat[i][left])\n",
    "            left += 1\n",
    "    return res\n",
    "\n",
    "mat = [[1, 2, 3, 4],[5, 6, 7, 8],[9, 10, 11, 12],[13, 14, 15, 16]]\n",
    "res = spiralMatrix(mat)\n",
    "\n",
    "print(\" \".join(map(str, res)))"
   ]
  },
  {
   "cell_type": "code",
   "execution_count": 4,
   "id": "28733fec",
   "metadata": {},
   "outputs": [
    {
     "name": "stdout",
     "output_type": "stream",
     "text": [
      " 1  2  3  4  5 \n",
      "16 17 18 19  6 \n",
      "15 24 25 20  7 \n",
      "14 23 22 21  8 \n",
      "13 12 11 10  9 \n"
     ]
    }
   ],
   "source": [
    "n=5\n",
    "mat = [[0]*n for _ in range(n)]\n",
    "val = 1\n",
    "top=0\n",
    "bottom=n-1\n",
    "left=0\n",
    "right = n-1\n",
    "while val <= n*n:\n",
    "    for i in range(left, right+1):\n",
    "        mat[top][i] = val\n",
    "        val += 1\n",
    "    top += 1\n",
    "    for i in range(top, bottom+1):\n",
    "        mat[i][right] = val\n",
    "        val += 1\n",
    "    right -= 1\n",
    "    for i in range(right, left-1, -1):\n",
    "        mat[bottom][i] = val\n",
    "        val += 1\n",
    "    bottom -= 1\n",
    "    for i in range(bottom, top-1, -1):\n",
    "        mat[i][left] = val\n",
    "        val += 1\n",
    "    left += 1\n",
    "for row in mat:\n",
    "    for col in row:\n",
    "        if col < 10:\n",
    "            print(\" \", end=\"\")\n",
    "        print(col,end=\" \")\n",
    "    print()\n"
   ]
  },
  {
   "cell_type": "code",
   "execution_count": 4,
   "id": "95ea59af",
   "metadata": {},
   "outputs": [
    {
     "name": "stdout",
     "output_type": "stream",
     "text": [
      "13 is the 2nd largest number\n"
     ]
    }
   ],
   "source": [
    "arr=[5,12,25,13,2,4]\n",
    "arr.sort()\n",
    "arr.reverse()\n",
    "print(f\"{arr[1]} is the 2nd largest number\")"
   ]
  },
  {
   "cell_type": "code",
   "execution_count": null,
   "id": "0d77a5da",
   "metadata": {},
   "outputs": [
    {
     "name": "stdout",
     "output_type": "stream",
     "text": [
      "23 is the 2nd largest number\n"
     ]
    }
   ],
   "source": [
    "list1=[1,2,32,21,23]\n",
    "if(len(list1)>2):\n",
    "    first=float('-inf')\n",
    "    second=float('-inf')\n",
    "    for num in list1:\n",
    "        if num>first:\n",
    "            second=first # inf\n",
    "            first=num # 1\n",
    "        elif num>second and num!=first:\n",
    "            second=num\n",
    "    print(f\"{second} is the 2nd largest number\")\n",
    "else:\n",
    "    print(\"not found\")"
   ]
  },
  {
   "cell_type": "code",
   "execution_count": 8,
   "id": "05b373a8",
   "metadata": {},
   "outputs": [
    {
     "name": "stdout",
     "output_type": "stream",
     "text": [
      "21 is the 3rd largest number\n"
     ]
    }
   ],
   "source": [
    "#3rd largest number\n",
    "list1=[1,2,32,21,23]\n",
    "if(len(list1)>2):\n",
    "    first=float('-inf')\n",
    "    second=float('-inf')\n",
    "    third=float('-inf')\n",
    "    for num in list1:\n",
    "        if num>first:\n",
    "            third=second\n",
    "            second=first\n",
    "            first=num\n",
    "        elif num>second and num!=first:\n",
    "            third=second\n",
    "            second=num\n",
    "        elif num>third and num!=second and num!=first:\n",
    "            third=num\n",
    "    print(f\"{third} is the 3rd largest number\")\n",
    "else:\n",
    "    print(\"not found\")"
   ]
  },
  {
   "cell_type": "code",
   "execution_count": 12,
   "id": "e2a20844",
   "metadata": {},
   "outputs": [
    {
     "name": "stdout",
     "output_type": "stream",
     "text": [
      "Maximum Area is 49\n"
     ]
    }
   ],
   "source": [
    "height = [1,8,6,2,5,4,8,3,7]\n",
    "left = 0\n",
    "right = len(height) - 1\n",
    "maxArea = 0\n",
    "\n",
    "while left < right:\n",
    "    currentArea = min(height[left], height[right]) * (right - left)\n",
    "    maxArea = max(maxArea, currentArea)\n",
    "    if height[left] < height[right]:\n",
    "        left += 1\n",
    "    else:\n",
    "        right -= 1\n",
    "print(f\"Maximum Area is {maxArea}\")"
   ]
  },
  {
   "cell_type": "code",
   "execution_count": 15,
   "id": "3a096a9b",
   "metadata": {},
   "outputs": [
    {
     "name": "stdout",
     "output_type": "stream",
     "text": [
      "49\n"
     ]
    }
   ],
   "source": [
    "class Solution:\n",
    "    def maxArea(self, height):\n",
    "        max_area = 0\n",
    "        left, right = 0, len(height) - 1\n",
    "        while left < right:\n",
    "            max_area = max(max_area, (right - left) * min(height[left], height[right]))\n",
    "            \n",
    "            if height[left] < height[right]:\n",
    "                left += 1\n",
    "            else:\n",
    "                right -= 1\n",
    "\n",
    "        return max_area\n",
    "    \n",
    "s = Solution()\n",
    "height = [1,8,6,2,5,4,8,3,7]\n",
    "print(s.maxArea(height))\n"
   ]
  },
  {
   "cell_type": "code",
   "execution_count": null,
   "id": "6aa218fb",
   "metadata": {},
   "outputs": [
    {
     "name": "stdout",
     "output_type": "stream",
     "text": [
      "1 1 1 1 1 1 1 \n",
      "1 1 1 1 1 1 1 \n",
      "1 1 1 1 1 1 1 \n"
     ]
    }
   ],
   "source": [
    "n=7\n",
    "m=3\n",
    "res = []\n",
    "for i in range(m):\n",
    "    row = [1] * n # \n",
    "    res.append(row)\n",
    "    \n",
    "#print matrix\n",
    "for row in res:\n",
    "    for col in row:\n",
    "        print(col, end=\" \")\n",
    "    print()"
   ]
  },
  {
   "cell_type": "code",
   "execution_count": 21,
   "id": "ad1f82ce",
   "metadata": {},
   "outputs": [
    {
     "name": "stdout",
     "output_type": "stream",
     "text": [
      "1 1 1 1 1 1 1 \n",
      "1 1 1 1 1 1 1 \n",
      "1 1 1 1 1 1 1 \n"
     ]
    }
   ],
   "source": [
    "n,m=7,3\n",
    "res = [[1]*n for i in range(m)]\n",
    "for row in res:\n",
    "    for col in row:\n",
    "        print(col, end=\" \")\n",
    "    print()"
   ]
  },
  {
   "cell_type": "code",
   "execution_count": 31,
   "id": "ad330e91",
   "metadata": {},
   "outputs": [
    {
     "name": "stdout",
     "output_type": "stream",
     "text": [
      " 1  1  1  1  1  1  1 \n",
      " 1  2  3  4  5  6  7 \n",
      " 1  3  6 10 15 21 28 \n",
      " Possible ways: 28\n"
     ]
    }
   ],
   "source": [
    "n,m=7,3\n",
    "res = [[1]*n for i in range(m)]\n",
    "for i in range(1,m):\n",
    "    for j in range(1,n):\n",
    "        res[i][j] = res[i-1][j] + res[i][j-1]\n",
    "        \n",
    "for i in res:\n",
    "    for j in i:\n",
    "        if j < 10:\n",
    "            print(\" \", end=\"\")\n",
    "        print(j, end=\" \")\n",
    "    print()\n",
    "print(f\" Possible ways: {res[-1][-1]}\")"
   ]
  },
  {
   "cell_type": "code",
   "execution_count": 34,
   "id": "6e39d6cb",
   "metadata": {},
   "outputs": [
    {
     "name": "stdout",
     "output_type": "stream",
     "text": [
      "hello\n",
      "world 12\n"
     ]
    }
   ],
   "source": [
    "def function(a=1):\n",
    "    print(\"hello\")\n",
    "    return f\"world {a}\"\n",
    "print(function(12))"
   ]
  },
  {
   "cell_type": "code",
   "execution_count": null,
   "id": "ea64353f",
   "metadata": {},
   "outputs": [
    {
     "data": {
      "text/plain": [
       "'world (1, 2, 3, 4, 5)'"
      ]
     },
     "metadata": {},
     "output_type": "display_data"
    }
   ],
   "source": [
    "def function(*a):\n",
    "    return f\"world {a}\"\n",
    "function(1,2,3,4,5)"
   ]
  },
  {
   "cell_type": "code",
   "execution_count": 40,
   "id": "7e67384c",
   "metadata": {},
   "outputs": [
    {
     "name": "stdout",
     "output_type": "stream",
     "text": [
      "11\n"
     ]
    }
   ],
   "source": [
    "def increment(num,by=1):\n",
    "    res = num + by\n",
    "    return res\n",
    "print(increment(10))"
   ]
  },
  {
   "cell_type": "code",
   "execution_count": 46,
   "id": "9f2c3995",
   "metadata": {},
   "outputs": [
    {
     "name": "stdout",
     "output_type": "stream",
     "text": [
      "Hello Idiot\n",
      "1\n",
      "hello mr/mrs. pavan\n",
      "None\n"
     ]
    }
   ],
   "source": [
    "def sample():\n",
    "    print(\"Hello Idiot\")\n",
    "    return 1\n",
    "print(sample())\n",
    "\n",
    "def sample2(name):\n",
    "    print(f\"hello mr/mrs. {name}\")\n",
    "print(sample2(\"pavan\"))"
   ]
  },
  {
   "cell_type": "code",
   "execution_count": 49,
   "id": "ebd58110",
   "metadata": {},
   "outputs": [
    {
     "name": "stdout",
     "output_type": "stream",
     "text": [
      "hello MR/MRS Bhima Pavan teja age :20\n"
     ]
    }
   ],
   "source": [
    "def sample3(first_name,last_name):\n",
    "    return f\"hello MR/MRS {first_name} {last_name} age :{20}\"\n",
    "print(sample3(\"Bhima\",\"Pavan teja\"))"
   ]
  },
  {
   "cell_type": "code",
   "execution_count": 50,
   "id": "543f1336",
   "metadata": {},
   "outputs": [
    {
     "name": "stdout",
     "output_type": "stream",
     "text": [
      "<class 'int'>\n",
      "4320\n"
     ]
    }
   ],
   "source": [
    "def multiple_values(*number):\n",
    "    total=1\n",
    "    for numbers in number:\n",
    "        total*=numbers\n",
    "    return total\n",
    "print((type)(multiple_values(2,3,4,5,6,6)))\n",
    "print((multiple_values(2,3,4,5,6,6)))"
   ]
  },
  {
   "cell_type": "code",
   "execution_count": 54,
   "id": "32bd6eee",
   "metadata": {},
   "outputs": [
    {
     "name": "stdout",
     "output_type": "stream",
     "text": [
      "1 Sunny 30\n"
     ]
    }
   ],
   "source": [
    "def number_Of_arguments(**values):\n",
    "    print(values[\"id\"],values[\"name\"],values[\"age\"])\n",
    "number_Of_arguments(name=\"Sunny\",id=1,age=30)"
   ]
  },
  {
   "cell_type": "code",
   "execution_count": 57,
   "id": "27945a0c",
   "metadata": {},
   "outputs": [
    {
     "name": "stdout",
     "output_type": "stream",
     "text": [
      "1\n",
      "Number is 2\n"
     ]
    }
   ],
   "source": [
    "number = 1\n",
    "def globalSpcopeCheck():\n",
    "    global number\n",
    "    number = 2\n",
    "    return f\"Number is {number}\"\n",
    "print(number)\n",
    "print(globalSpcopeCheck())"
   ]
  },
  {
   "cell_type": "code",
   "execution_count": 83,
   "id": "80f54a37",
   "metadata": {},
   "outputs": [
    {
     "name": "stdout",
     "output_type": "stream",
     "text": [
      "[7, 7, 5, 5]\n",
      "[0, 0]\n"
     ]
    }
   ],
   "source": [
    "list1 = [7,8,7,5,11]\n",
    "# min(7,8) min(8,7) min(7,5) min(5,11)\n",
    "# 7 7 5 5\n",
    "# diff(7,7) diff(5,5)\n",
    "#o/p: [0,0]\n",
    "res = []\n",
    "k = []\n",
    "for i in range(len(list1) - 1):\n",
    "    k.append(min(list1[i], list1[i + 1]))\n",
    "for i in range(0,len(k) - 1,2):\n",
    "    diff = abs(k[i] - k[i + 1])\n",
    "    res.append(diff)\n",
    "print(k)\n",
    "print(res)"
   ]
  },
  {
   "cell_type": "code",
   "execution_count": 15,
   "id": "28a5faf9",
   "metadata": {},
   "outputs": [
    {
     "name": "stdout",
     "output_type": "stream",
     "text": [
      "0 1 1 2 3 "
     ]
    }
   ],
   "source": [
    "def fib(n):\n",
    "    if n==0:\n",
    "        return 0\n",
    "    elif n==1:\n",
    "        return 1\n",
    "    else:\n",
    "        return fib(n-1) + fib(n-2)\n",
    "n = 5\n",
    "for i in range(n):\n",
    "    print(fib(i), end=\" \")"
   ]
  },
  {
   "cell_type": "code",
   "execution_count": 17,
   "id": "95fb2da1",
   "metadata": {},
   "outputs": [
    {
     "name": "stdout",
     "output_type": "stream",
     "text": [
      "Factorial of 5 is 120\n"
     ]
    }
   ],
   "source": [
    "n = 5\n",
    "fact = 1\n",
    "for i in range(1, n + 1):\n",
    "    fact *= i\n",
    "print(f\"Factorial of {n} is {fact}\")"
   ]
  },
  {
   "cell_type": "code",
   "execution_count": 19,
   "id": "36d8fe5c",
   "metadata": {},
   "outputs": [
    {
     "name": "stdout",
     "output_type": "stream",
     "text": [
      "Indirect recursion A: 5\n",
      "Indirect recursion B: 4\n",
      "Indirect recursion A: 3\n",
      "Indirect recursion B: 2\n",
      "Indirect recursion A: 1\n"
     ]
    }
   ],
   "source": [
    "def indirect_recursion_a(n):\n",
    "    if n <= 0:\n",
    "        return\n",
    "    print(f'Indirect recursion A: {n}')\n",
    "    indirect_recursion_b(n-1)\n",
    "def indirect_recursion_b(n):\n",
    "    if n <= 0:\n",
    "        return\n",
    "    print(f'Indirect recursion B: {n}')\n",
    "    indirect_recursion_a(n-1)\n",
    "indirect_recursion_a(5)"
   ]
  },
  {
   "cell_type": "code",
   "execution_count": 20,
   "id": "6f17d9e2",
   "metadata": {},
   "outputs": [
    {
     "name": "stdout",
     "output_type": "stream",
     "text": [
      "91\n"
     ]
    }
   ],
   "source": [
    "def nested_recursion(n):\n",
    "    if n > 100:\n",
    "        return n - 10\n",
    "    else:\n",
    "        return nested_recursion(nested_recursion(n + 11))\n",
    "print(nested_recursion(95))"
   ]
  },
  {
   "cell_type": "code",
   "execution_count": 30,
   "id": "d7a9f012",
   "metadata": {},
   "outputs": [
    {
     "name": "stdout",
     "output_type": "stream",
     "text": [
      "Head Recursion: 1\n",
      "Head Recursion: 2\n",
      "Head Recursion: 3\n",
      "Head Recursion: 4\n",
      "Head Recursion: 5\n"
     ]
    }
   ],
   "source": [
    "# it calls according to stack pop it outs\n",
    "def head_recursion(n):\n",
    "    if n == 0:\n",
    "        return\n",
    "    head_recursion(n - 1)\n",
    "    print(f'Head Recursion: {n}')\n",
    "head_recursion(5)"
   ]
  },
  {
   "cell_type": "code",
   "execution_count": 22,
   "id": "a40a8e5b",
   "metadata": {},
   "outputs": [
    {
     "name": "stdout",
     "output_type": "stream",
     "text": [
      "Tail Recursion Result: 120\n",
      "None\n"
     ]
    }
   ],
   "source": [
    "def tail_recursion(n, result=1):\n",
    "    if n == 0:\n",
    "        print(f'Tail Recursion Result: {result}')\n",
    "        return\n",
    "    tail_recursion(n - 1, result * n)\n",
    "print(tail_recursion(5))"
   ]
  },
  {
   "cell_type": "code",
   "execution_count": 31,
   "id": "57577587",
   "metadata": {},
   "outputs": [
    {
     "name": "stdout",
     "output_type": "stream",
     "text": [
      "8\n"
     ]
    }
   ],
   "source": [
    "def tree_recursion(n):\n",
    "    if n == 0:\n",
    "        return n\n",
    "    elif n==1:\n",
    "        return n\n",
    "    return tree_recursion(n - 1) + tree_recursion(n - 2)\n",
    "print(tree_recursion(6))"
   ]
  },
  {
   "cell_type": "code",
   "execution_count": 69,
   "id": "40df77fd",
   "metadata": {},
   "outputs": [
    {
     "name": "stdout",
     "output_type": "stream",
     "text": [
      "[2, 3, 4, 5, 1]\n",
      "[3, 4, 5, 1, 2]\n"
     ]
    }
   ],
   "source": [
    "#using pop and append\n",
    "list1 = [1, 2, 3, 4, 5]\n",
    "r = 3\n",
    "for i in range(r-1):\n",
    "    first = list1.pop(0)\n",
    "    list1.append(first)\n",
    "    print(list1)"
   ]
  },
  {
   "cell_type": "code",
   "execution_count": null,
   "id": "8b4fbc91",
   "metadata": {},
   "outputs": [
    {
     "name": "stdout",
     "output_type": "stream",
     "text": [
      "[1, 2, 3, 4, 5]\n",
      "r->1 [5, 1, 2, 3, 4]\n",
      "r->2 [4, 5, 1, 2, 3]\n",
      "r->3 [3, 4, 5, 1, 2]\n",
      "Final Array: [3, 4, 5, 1, 2]\n"
     ]
    }
   ],
   "source": [
    "arr = [1, 2, 3, 4, 5]\n",
    "r = 3\n",
    "print(arr)\n",
    "for i in range(r):\n",
    "    first = arr[-1]\n",
    "    for j in range(len(arr)-1,0,-1):\n",
    "        arr[j] = arr[j-1]\n",
    "    arr[0] = first\n",
    "    print(f'r->{i+1} {arr}') #print('r{} ->{}'.format(i+1,arr)) #print('r{0} ->{1}'.format(i+1,arr))\n",
    "print(f'Final Array: {arr}')"
   ]
  },
  {
   "cell_type": "code",
   "execution_count": 84,
   "id": "b836722f",
   "metadata": {},
   "outputs": [
    {
     "name": "stdout",
     "output_type": "stream",
     "text": [
      "[2, 3, 4, 5, 1]\n"
     ]
    }
   ],
   "source": [
    "list1 = [1,2,3,4,5]\n",
    "k = 9\n",
    "rotation = k % len(list1) #9 % 5 = 4\n",
    "def rotate(array: list[int], k: int) -> list[int]:\n",
    "    reverse(array, 0, len(array) - 1)\n",
    "    reverse(array, 0, rotation - 1)\n",
    "    reverse(array, rotation, len(array) - 1)\n",
    "    return array\n",
    "def reverse(array: list[int], start: int, end: int) -> list[int]:\n",
    "    while start < end:\n",
    "        array[start], array[end] = array[end], array[start]\n",
    "        start += 1\n",
    "        end -= 1\n",
    "print(rotate(list1, k))"
   ]
  },
  {
   "cell_type": "code",
   "execution_count": 2,
   "id": "3459267d",
   "metadata": {},
   "outputs": [
    {
     "name": "stdout",
     "output_type": "stream",
     "text": [
      "b'pavan teja'\n"
     ]
    }
   ],
   "source": [
    "name = \"pavan teja\"\n",
    "print(name.encode('utf-8'))"
   ]
  },
  {
   "cell_type": "code",
   "execution_count": 5,
   "id": "cbf0f6d8",
   "metadata": {},
   "outputs": [
    {
     "name": "stdout",
     "output_type": "stream",
     "text": [
      "['', '', 'sankar', '', '']\n"
     ]
    }
   ],
   "source": [
    "sample = \",,sankar,,\"\n",
    "print(sample.split(','))"
   ]
  },
  {
   "cell_type": "code",
   "execution_count": 6,
   "id": "d5afb1e8",
   "metadata": {},
   "outputs": [
    {
     "name": "stdout",
     "output_type": "stream",
     "text": [
      "woRLD hELLO\n"
     ]
    }
   ],
   "source": [
    "sample = \"WOrld Hello\"\n",
    "print(sample.swapcase())"
   ]
  },
  {
   "cell_type": "code",
   "execution_count": 7,
   "id": "d0a547bc",
   "metadata": {},
   "outputs": [
    {
     "name": "stdout",
     "output_type": "stream",
     "text": [
      "hello pavan how are you\n"
     ]
    }
   ],
   "source": [
    "sample = \"hello world\"\n",
    "print(\"hello {} how are you\".format(\"pavan\"))"
   ]
  },
  {
   "cell_type": "code",
   "execution_count": 12,
   "id": "1b8b359a",
   "metadata": {},
   "outputs": [
    {
     "name": "stdout",
     "output_type": "stream",
     "text": [
      "hello\n",
      "world\n"
     ]
    }
   ],
   "source": [
    "sample = \"  hello  \"\n",
    "print(sample.strip())\n",
    "\n",
    "sample = \"  ,,world,,  \"\n",
    "print(sample.strip(', '))"
   ]
  },
  {
   "cell_type": "code",
   "execution_count": 19,
   "id": "e0e6bb5d",
   "metadata": {},
   "outputs": [
    {
     "name": "stdout",
     "output_type": "stream",
     "text": [
      "\n"
     ]
    }
   ],
   "source": [
    "sample=\"pavan\"\n",
    "print(chr(ord(sample[0]) + 32))"
   ]
  },
  {
   "cell_type": "code",
   "execution_count": 34,
   "id": "4db7b2d3",
   "metadata": {},
   "outputs": [
    {
     "name": "stdout",
     "output_type": "stream",
     "text": [
      "pavan\n",
      "5\n"
     ]
    }
   ],
   "source": [
    "sample = \"    pavan    \"\n",
    "start = 0\n",
    "end = len(sample) - 1\n",
    "while start <= end and (sample[start]==\" \" or sample[end]==\" \"):\n",
    "    if sample[start] == \" \":\n",
    "        start += 1\n",
    "    if sample[end] == \" \":\n",
    "        end -= 1\n",
    "if start < end:\n",
    "    result = \"\"\n",
    "    for i in range(start , end + 1):\n",
    "        result += sample[i]\n",
    "else:\n",
    "    result = \"\"\n",
    "    print(repr(sample))\n",
    "print(result)\n",
    "print(len(result))\n"
   ]
  },
  {
   "cell_type": "code",
   "execution_count": 37,
   "id": "8ea731fb",
   "metadata": {},
   "outputs": [
    {
     "name": "stdout",
     "output_type": "stream",
     "text": [
      "Anagram\n"
     ]
    }
   ],
   "source": [
    "#lisent -> silent it is a anagram\n",
    "sample = \"Lisent\"\n",
    "sample1 = \"Silent\"\n",
    "sample = sample.lower()\n",
    "sample1 = sample1.lower()\n",
    "if sorted(sample) == sorted(sample1):\n",
    "    print(\"Anagram\")\n",
    "else:\n",
    "    print(\"Not anagram\")"
   ]
  },
  {
   "cell_type": "code",
   "execution_count": null,
   "id": "a78fa8a5",
   "metadata": {},
   "outputs": [
    {
     "name": "stdout",
     "output_type": "stream",
     "text": [
      "True\n"
     ]
    }
   ],
   "source": [
    "def anagrams(s1, s2):\n",
    "    if(len(s1) != len(s2)):\n",
    "        return False\n",
    "    count = [0] * 26\n",
    "    for i in range(len(s1)):\n",
    "        count[ord(s1[i]) - ord('a')] += 1\n",
    "        count[ord(s2[i]) - ord('a')] -= 1\n",
    "    # print(count, end=\" \")\n",
    "    for i in count:\n",
    "        if i != 0:\n",
    "            return False\n",
    "    return True\n",
    "print(anagrams(\"listen\", \"silent\"))"
   ]
  },
  {
   "cell_type": "code",
   "execution_count": 5,
   "id": "a8e71b76",
   "metadata": {},
   "outputs": [
    {
     "name": "stdout",
     "output_type": "stream",
     "text": [
      "True\n"
     ]
    }
   ],
   "source": [
    "def palindrome(val:str)->bool:\n",
    "    result=val\n",
    "    start=0\n",
    "    end=len(val)-1\n",
    "    while(start<end):\n",
    "        if(result[start]==result[end]):\n",
    "            start += 1\n",
    "            end -= 1\n",
    "        else:\n",
    "            return False\n",
    "    return True\n",
    "print(palindrome(\"madam\"))"
   ]
  },
  {
   "cell_type": "code",
   "execution_count": 28,
   "id": "c035fca9",
   "metadata": {},
   "outputs": [
    {
     "name": "stdout",
     "output_type": "stream",
     "text": [
      "a\n",
      "aba\n",
      "abadaba\n"
     ]
    }
   ],
   "source": [
    "def long_palindrome(s: str) -> str:\n",
    "    if not s or len(s) <1 :\n",
    "        return \"\"\n",
    "    start = 0\n",
    "    end = 0\n",
    "    def check_palindrome(left: int, right: int) -> int:\n",
    "        while left >= 0 and right < len(s) and s[left] == s[right]:\n",
    "            left -= 1\n",
    "            right += 1\n",
    "        return right - left - 1\n",
    "    for i in range(len(s)):\n",
    "        len1 = check_palindrome(i, i)\n",
    "        len2 = check_palindrome(i, i + 1)\n",
    "        max_len = max(len1, len2)\n",
    "        if max_len > end - start:\n",
    "            start = i - (max_len - 1) // 2\n",
    "            end = i + max_len // 2\n",
    "    return s[start:end + 1]\n",
    "print(long_palindrome(\"a\"))\n",
    "print(long_palindrome(\"babad\"))\n",
    "print(long_palindrome(\"dabadaba\"))"
   ]
  },
  {
   "cell_type": "code",
   "execution_count": 26,
   "id": "0c227a7a",
   "metadata": {},
   "outputs": [
    {
     "name": "stdout",
     "output_type": "stream",
     "text": [
      "abbbcccc\n"
     ]
    }
   ],
   "source": [
    "# sample = a1b3c4\n",
    "# o/p = abbbcccc\n",
    "\n",
    "sample = \"a1b3c4\"\n",
    "\n",
    "def string_expand(a: str) -> str:\n",
    "    s=a\n",
    "    result=\"\"\n",
    "    for i in range(0, len(s), 2):\n",
    "        ch = s[i]\n",
    "        n = int(s[i+1])\n",
    "        result += ch * n\n",
    "    return result\n",
    "\n",
    "print(string_expand(sample))"
   ]
  },
  {
   "cell_type": "code",
   "execution_count": 33,
   "id": "a6b27ce3",
   "metadata": {},
   "outputs": [
    {
     "name": "stdout",
     "output_type": "stream",
     "text": [
      "a1b3c4\n"
     ]
    }
   ],
   "source": [
    "def compress_string(s):\n",
    "    if not s:\n",
    "        return \"\"\n",
    "    result = \"\"\n",
    "    count = 1\n",
    "    for i in range(1,len(s)):\n",
    "        if s[i] == s[i-1]:\n",
    "            count += 1\n",
    "        else:\n",
    "            result += s[i-1] + str(count)\n",
    "            count = 1\n",
    "    result += s[-1] + str(count)\n",
    "    return result\n",
    "\n",
    "print(compress_string(\"abbbcccc\"))"
   ]
  },
  {
   "cell_type": "code",
   "execution_count": 1,
   "id": "9c9040cb",
   "metadata": {},
   "outputs": [
    {
     "name": "stdout",
     "output_type": "stream",
     "text": [
      "Before insertion: [1, 2, 3, 4, 5]\n",
      "After insertion: [1, 2, 10, 3, 4, 5]\n"
     ]
    }
   ],
   "source": [
    "arr = [1, 2, 3, 4, 5] + [0]*5\n",
    "n = 5\n",
    "index = 2\n",
    "element = 10\n",
    "print(\"Before insertion:\", arr[:n])\n",
    "if 0 <= index <= n:\n",
    "    for i in range(n, index, -1):\n",
    "        arr[i] = arr[i - 1]\n",
    "    arr[index] = element\n",
    "    n += 1\n",
    "print(\"After insertion:\", arr[:n])"
   ]
  },
  {
   "cell_type": "code",
   "execution_count": 3,
   "id": "8e52626d",
   "metadata": {},
   "outputs": [
    {
     "name": "stdout",
     "output_type": "stream",
     "text": [
      "dict_keys([0, 1, 2, 3])\n"
     ]
    }
   ],
   "source": [
    "animals = ['cat', 'dog', 'fish', 'bird']\n",
    "animal_dict = {i: animal for i, animal in enumerate(animals)}\n",
    "keys = animal_dict.keys()\n",
    "print(keys)"
   ]
  },
  {
   "cell_type": "code",
   "execution_count": 4,
   "id": "a39cda6f",
   "metadata": {},
   "outputs": [
    {
     "name": "stdout",
     "output_type": "stream",
     "text": [
      "['dog', 'cat', 'elephant', 'lion']\n",
      "dog\n",
      "['dog', 'tiger', 'elephant', 'lion']\n",
      "['dog', 'tiger', 'elephant', 'lion', 'zebra']\n",
      "['dog', 'tiger', 'giraffe', 'elephant', 'lion', 'zebra']\n",
      "['dog', 'tiger', 'giraffe', 'elephant', 'zebra']\n",
      "zebra\n",
      "['dog', 'elephant', 'giraffe', 'tiger']\n",
      "['tiger', 'giraffe', 'elephant', 'dog']\n",
      "[5, 7, 8, 3]\n"
     ]
    }
   ],
   "source": [
    "# LIST EXAMPLES\n",
    "# 1. Creating a List\n",
    "animals = [\"dog\", \"cat\", \"elephant\", \"lion\"]\n",
    "print(animals)\n",
    "\n",
    "# 2. Access List Items\n",
    "print(animals[0])  # Output: dog\n",
    "\n",
    "# 3. Change List Items\n",
    "animals[1] = \"tiger\"\n",
    "print(animals)\n",
    "\n",
    "# 4. Add List Items\n",
    "animals.append(\"zebra\")\n",
    "print(animals)\n",
    "\n",
    "# 5. Insert Item at Specific Index\n",
    "animals.insert(2, \"giraffe\")\n",
    "print(animals)\n",
    "\n",
    "# 6. Remove List Items\n",
    "animals.remove(\"lion\")\n",
    "print(animals)\n",
    "\n",
    "# 7. Pop Last Item\n",
    "last_animal = animals.pop()\n",
    "print(last_animal)\n",
    "\n",
    "# 8. Sort List\n",
    "animals.sort()\n",
    "print(animals)\n",
    "\n",
    "# 9. Reverse List\n",
    "animals.reverse()\n",
    "print(animals)\n",
    "\n",
    "# 10. List Comprehension\n",
    "animal_lengths = [len(animal) for animal in animals]\n",
    "print(animal_lengths)"
   ]
  },
  {
   "cell_type": "code",
   "execution_count": 1,
   "id": "d8585bb7",
   "metadata": {},
   "outputs": [
    {
     "name": "stdout",
     "output_type": "stream",
     "text": [
      "('dog', 'cat', 'elephant', 'lion')\n",
      "dog\n",
      "dog cat elephant lion\n",
      "['dog', 'cat', 'elephant', 'lion']\n",
      "True\n",
      "('dog', 'cat', 'elephant', 'lion', 'zebra', 'giraffe')\n",
      "('dog', 'cat', 'elephant', 'lion', 'dog', 'cat', 'elephant', 'lion')\n"
     ]
    }
   ],
   "source": [
    "# TUPLE EXAMPLES\n",
    "# 1. Creating a Tuple\n",
    "animals_tuple = (\"dog\", \"cat\", \"elephant\", \"lion\")\n",
    "print(animals_tuple)\n",
    "\n",
    "# 2. Access Tuple Items\n",
    "print(animals_tuple[0])  # Output: dog\n",
    "\n",
    "# 3. Unpack Tuple\n",
    "dog, cat, elephant, lion = animals_tuple\n",
    "print(dog, cat, elephant, lion)\n",
    "\n",
    "# 4. Convert Tuple to List\n",
    "animals_list = list(animals_tuple)\n",
    "print(animals_list)\n",
    "\n",
    "# 5. Check if Item Exists in Tuple\n",
    "print(\"cat\" in animals_tuple)  # Output: True\n",
    "\n",
    "# 6. Tuple Concatenation\n",
    "more_animals_tuple = animals_tuple + (\"zebra\", \"giraffe\")\n",
    "print(more_animals_tuple)\n",
    "\n",
    "# 7. Repeat Tuple\n",
    "repeated_tuple = animals_tuple * 2\n",
    "print(repeated_tuple)"
   ]
  },
  {
   "cell_type": "code",
   "execution_count": 5,
   "id": "4dd3720d",
   "metadata": {},
   "outputs": [
    {
     "name": "stdout",
     "output_type": "stream",
     "text": [
      "{'elephant', 'dog', 'cat', 'lion'}\n",
      "{'elephant', 'cat', 'dog', 'lion', 'giraffe'}\n",
      "{'elephant', 'cat', 'dog', 'giraffe'}\n",
      "True\n",
      "{'elephant', 'dog', 'tiger', 'lion', 'leopard', 'cat', 'giraffe'}\n",
      "set()\n",
      "{'elephant', 'dog', 'cat', 'giraffe'}\n"
     ]
    }
   ],
   "source": [
    "# SET EXAMPLES\n",
    "# 1. Creating a Set\n",
    "animals_set = {\"dog\", \"cat\", \"elephant\", \"lion\"}\n",
    "print(animals_set)\n",
    "\n",
    "# 2. Add Items to Set\n",
    "animals_set.add(\"giraffe\")\n",
    "print(animals_set)\n",
    "\n",
    "# 3. Remove Items from Set\n",
    "animals_set.remove(\"lion\")\n",
    "print(animals_set)\n",
    "\n",
    "# 4. Check if Item Exists in Set\n",
    "print(\"cat\" in animals_set)  # Output: True\n",
    "\n",
    "# 5. Set Union\n",
    "wild_animals = {\"tiger\", \"lion\", \"leopard\"}\n",
    "all_animals = animals_set.union(wild_animals)\n",
    "print(all_animals)\n",
    "\n",
    "# 6. Set Intersection\n",
    "common_animals = animals_set.intersection(wild_animals)\n",
    "print(common_animals)\n",
    "\n",
    "# 7. Set Difference\n",
    "unique_animals = animals_set.difference(wild_animals)\n",
    "print(unique_animals)"
   ]
  },
  {
   "cell_type": "code",
   "execution_count": 6,
   "id": "e8a2f0bf",
   "metadata": {},
   "outputs": [
    {
     "name": "stdout",
     "output_type": "stream",
     "text": [
      "{'dog': 'canine', 'cat': 'feline', 'elephant': 'herbivore'}\n",
      "canine\n",
      "{'dog': 'domesticated canine', 'cat': 'feline', 'elephant': 'herbivore'}\n",
      "{'dog': 'domesticated canine', 'cat': 'feline', 'elephant': 'herbivore', 'lion': 'big cat'}\n",
      "{'dog': 'domesticated canine', 'elephant': 'herbivore', 'lion': 'big cat'}\n",
      "{'dog': 3, 'elephant': 8, 'lion': 4}\n",
      "big cat\n",
      "dict_keys(['dog', 'elephant', 'lion'])\n"
     ]
    }
   ],
   "source": [
    "# DICTIONARY EXAMPLES\n",
    "# 1. Creating a Dictionary\n",
    "animals_dict = {\"dog\": \"canine\", \"cat\": \"feline\", \"elephant\": \"herbivore\"}\n",
    "print(animals_dict)\n",
    "\n",
    "# 2. Access Dictionary Items\n",
    "print(animals_dict[\"dog\"])\n",
    "\n",
    "# 3. Change Dictionary Item\n",
    "animals_dict[\"dog\"] = \"domesticated canine\"\n",
    "print(animals_dict)\n",
    "\n",
    "# 4. Add Dictionary Item\n",
    "animals_dict[\"lion\"] = \"big cat\"\n",
    "print(animals_dict)\n",
    "\n",
    "# 5. Remove Dictionary Item\n",
    "animals_dict.pop(\"cat\")\n",
    "print(animals_dict)\n",
    "\n",
    "# 6. Dictionary Comprehension\n",
    "animal_lengths_dict = {animal: len(animal) for animal in animals_dict}\n",
    "print(animal_lengths_dict)\n",
    "\n",
    "# 7. Nested Dictionary\n",
    "zoo = {\n",
    "    \"carnivores\": {\"dog\": \"canine\", \"lion\": \"big cat\"},\n",
    "    \"herbivores\": {\"elephant\": \"herbivore\", \"giraffe\": \"tall herbivore\"}\n",
    "}\n",
    "print(zoo[\"carnivores\"][\"lion\"])\n",
    "\n",
    "# 8. Dictionary Methods\n",
    "keys = animals_dict.keys()\n",
    "print(keys)"
   ]
  },
  {
   "cell_type": "code",
   "execution_count": 7,
   "id": "4d8cdceb",
   "metadata": {},
   "outputs": [
    {
     "name": "stdout",
     "output_type": "stream",
     "text": [
      "[1, 2, 3, 4]\n",
      "[1, 2, 1, 2]\n",
      "[2, 3, 4]\n",
      "1\n",
      "2\n",
      "3\n",
      "[10, 2]\n",
      "[1, 2]\n",
      "[1, 2, 3, 100]\n",
      "[0, 1, 4, 9, 16]\n"
     ]
    }
   ],
   "source": [
    "# Lists\n",
    "# List Operations\n",
    "lst1 = [1, 2]\n",
    "lst2 = [3, 4]\n",
    "print(lst1 + lst2)  # Concatenation: [1, 2, 3, 4]\n",
    "print(lst1 * 2)     # Repetition: [1, 2, 1, 2]\n",
    "\n",
    "# List Slices\n",
    "lst = [1, 2, 3, 4, 5]\n",
    "print(lst[1:4])     # [2, 3, 4]\n",
    "\n",
    "# List Methods\n",
    "lst = [1, 3, 2]\n",
    "lst.append(4)       # Append 4 to the list: [1, 3, 2, 4]\n",
    "lst.sort()          # Sort the list: [1, 2, 3, 4]\n",
    "\n",
    "# List Loop\n",
    "for item in [1, 2, 3]:\n",
    "    print(item)\n",
    "\n",
    "# Mutability\n",
    "lst = [1, 2, 3]\n",
    "lst[0] = 10         # List after modification: [10, 2, 3]\n",
    "\n",
    "# Aliasing\n",
    "lst1 = [1, 2]\n",
    "lst2 = lst1\n",
    "lst2[0] = 10\n",
    "print(lst1)         # [10, 2]\n",
    "\n",
    "# Cloning Lists\n",
    "lst1 = [1, 2]\n",
    "lst2 = lst1[:]\n",
    "lst2[0] = 10\n",
    "print(lst1)         # [1, 2]\n",
    "\n",
    "# List Parameters\n",
    "def modify(lst):\n",
    "    lst.append(100)\n",
    "\n",
    "lst = [1, 2, 3]\n",
    "modify(lst)\n",
    "print(lst)          # [1, 2, 3, 100]\n",
    "\n",
    "# List Comprehension\n",
    "lst = [x**2 for x in range(5)]\n",
    "print(lst)          # [0, 1, 4, 9, 16]\n"
   ]
  },
  {
   "cell_type": "code",
   "execution_count": 8,
   "id": "1f5357f7",
   "metadata": {},
   "outputs": [
    {
     "name": "stdout",
     "output_type": "stream",
     "text": [
      "1 2 3\n",
      "1 2 3\n",
      "(0, 1, 4, 9, 16)\n"
     ]
    }
   ],
   "source": [
    "# Tuples\n",
    "# Tuple Assignment\n",
    "tup = (1, 2, 3)\n",
    "a, b, c = tup\n",
    "print(a, b, c)      # 1 2 3\n",
    "\n",
    "# Tuple as Return Value\n",
    "def get_values():\n",
    "    return 1, 2, 3\n",
    "\n",
    "a, b, c = get_values()\n",
    "print(a, b, c)      # 1 2 3\n",
    "\n",
    "# Tuple Comprehension\n",
    "tup = tuple(x**2 for x in range(5))\n",
    "print(tup)          # (0, 1, 4, 9, 16)"
   ]
  },
  {
   "cell_type": "code",
   "execution_count": 9,
   "id": "02e2ed60",
   "metadata": {},
   "outputs": [
    {
     "name": "stdout",
     "output_type": "stream",
     "text": [
      "1\n",
      "1\n",
      "dict_keys(['a', 'b', 'c'])\n",
      "{0: 0, 1: 1, 2: 4, 3: 9, 4: 16}\n",
      "['giraffe', 'elephant']\n"
     ]
    }
   ],
   "source": [
    "# Dictionaries\n",
    "# Operations and Methods\n",
    "d = {'a': 1, 'b': 2}\n",
    "d['c'] = 3           # Add a new key-value pair\n",
    "print(d['a'])        # Access value: 1\n",
    "\n",
    "# Dictionary Methods\n",
    "print(d.get('a'))    # Get value by key: 1\n",
    "print(d.keys())      # Get all keys: dict_keys(['a', 'b', 'c'])\n",
    "\n",
    "# Dictionary Comprehension\n",
    "d = {x: x**2 for x in range(5)}\n",
    "print(d)            # {0: 0, 1: 1, 2: 4, 3: 9, 4: 16}\n",
    "animals = [\"dog\", \"giraffe\", \"lion\", \"elephant\", \"cat\"]\n",
    "filtered_animals = [\n",
    "    animal for animal\n",
    "    in animals if len(animal) >= 5]\n",
    "filtered_animals.sort()\n",
    "filtered_animals.reverse()\n",
    "print(filtered_animals)"
   ]
  },
  {
   "cell_type": "code",
   "execution_count": 10,
   "id": "16a283fa",
   "metadata": {},
   "outputs": [
    {
     "name": "stdout",
     "output_type": "stream",
     "text": [
      "{1: 1, 2: 2, 3: 3, 4: 4}\n"
     ]
    }
   ],
   "source": [
    "#count frequencies of elements in a list\n",
    "def count_frequencies(lst):\n",
    "    frequency_dict = {}\n",
    "    for item in lst:\n",
    "        if item in frequency_dict:\n",
    "            frequency_dict[item] += 1\n",
    "        else:\n",
    "            frequency_dict[item] = 1\n",
    "    return frequency_dict\n",
    "# Example usage\n",
    "lst = [1, 2, 2, 3, 3, 3, 4, 4, 4, 4]\n",
    "frequencies = count_frequencies(lst)\n",
    "print(frequencies)  # Output: {1: 1, 2: 2, 3: 3, 4: 4}"
   ]
  },
  {
   "cell_type": "code",
   "execution_count": 11,
   "id": "51f7b90d",
   "metadata": {},
   "outputs": [
    {
     "name": "stdout",
     "output_type": "stream",
     "text": [
      "6 occurs 1 times\n"
     ]
    }
   ],
   "source": [
    "list1=[1,1,2,1,6,5,6]\n",
    "#use flag and print frequencies of  elements of list \n",
    "flag=0\n",
    "for i in range(len(list1)):\n",
    "    for j in range(i+1,len(list1)):\n",
    "        if list1[i]==list1[j]:\n",
    "            flag+=1\n",
    "        else:\n",
    "            flag=0\n",
    "    if flag>0:\n",
    "        print(list1[i], \"occurs\", flag, \"times\")"
   ]
  },
  {
   "cell_type": "code",
   "execution_count": 16,
   "id": "762b98f1",
   "metadata": {},
   "outputs": [
    {
     "name": "stdout",
     "output_type": "stream",
     "text": [
      "Frequencies\n",
      "1 occurs 3 times\n",
      "2 occurs 1 times\n",
      "6 occurs 2 times\n",
      "5 occurs 1 times\n"
     ]
    }
   ],
   "source": [
    "arr = [1, 1, 2, 1, 6, 5, 6]\n",
    "visited = [0] * len(arr)\n",
    "flag = -1\n",
    "print(\"Frequencies\")\n",
    "for i in range(len(arr)):\n",
    "    if visited[i] == flag:\n",
    "        continue\n",
    "    count = 1\n",
    "    for j in range(i + 1, len(arr)):\n",
    "        if arr[i] == arr[j]:\n",
    "            count += 1\n",
    "            visited[j] = flag\n",
    "    print(arr[i], \"occurs\", count, \"times\")"
   ]
  },
  {
   "cell_type": "code",
   "execution_count": 15,
   "id": "385b042a",
   "metadata": {},
   "outputs": [
    {
     "name": "stdout",
     "output_type": "stream",
     "text": [
      "badcfehg\n"
     ]
    }
   ],
   "source": [
    "input=\"abcdefgh\"\n",
    "output=\"\"\n",
    "for i in range(0, len(input), 2):\n",
    "    if i + 1 < len(input):\n",
    "        output += input[i + 1] + input[i]\n",
    "    else:\n",
    "        output += input[i]\n",
    "print(output)\n",
    "#ouput: badcfehg"
   ]
  },
  {
   "cell_type": "code",
   "execution_count": 14,
   "id": "64eaf805",
   "metadata": {},
   "outputs": [
    {
     "name": "stdout",
     "output_type": "stream",
     "text": [
      "['a', 'ab', 'abc', 'abcd', 'b', 'bc', 'bcd', 'c', 'cd', 'd']\n"
     ]
    }
   ],
   "source": [
    "word=\"abcd\"\n",
    "#ouput is in combinations like ab,abc,abcd,bc,bcd,cd\n",
    "combination = []\n",
    "for i in range(len(word)):\n",
    "    for j in range(i+1,len(word)+1):\n",
    "        combination+=[word[i:j]]\n",
    "print(combination)"
   ]
  },
  {
   "cell_type": "code",
   "execution_count": 13,
   "id": "5748d4c2",
   "metadata": {},
   "outputs": [
    {
     "name": "stdout",
     "output_type": "stream",
     "text": [
      "fl\n"
     ]
    }
   ],
   "source": [
    "#longest common prefix\n",
    "def longest_common_prefix(strs):\n",
    "    if not strs:\n",
    "        return \"\"\n",
    "    prefix = strs[0]\n",
    "    for s in strs[1:]:\n",
    "        while not s.startswith(prefix):\n",
    "            prefix = prefix[:-1]\n",
    "            if not prefix:\n",
    "                return \"\"\n",
    "    return prefix\n",
    "# Example usage\n",
    "strs = [\"flower\", \"flow\", \"flight\"]\n",
    "print(longest_common_prefix(strs))  # Output: \"fl\""
   ]
  },
  {
   "cell_type": "code",
   "execution_count": 12,
   "id": "b97c5a7c",
   "metadata": {},
   "outputs": [
    {
     "name": "stdout",
     "output_type": "stream",
     "text": [
      "abc\n"
     ]
    }
   ],
   "source": [
    "#input=\"abcabcccbd\"\n",
    "#output=\"cbd\"\n",
    "def longest_substring(s):\n",
    "    n = len(s)\n",
    "    max_length = 0\n",
    "    start = 0\n",
    "    longest_substr = \"\"\n",
    "    char_index_map = {}\n",
    "    \n",
    "    for i in range(n):\n",
    "        if s[i] in char_index_map and char_index_map[s[i]] >= start:\n",
    "            start = char_index_map[s[i]] + 1\n",
    "        char_index_map[s[i]] = i\n",
    "        current_length = i - start + 1\n",
    "        if current_length > max_length:\n",
    "            max_length = current_length\n",
    "            longest_substr = s[start:i + 1]\n",
    "    \n",
    "    return longest_substr\n",
    "# Example usage\n",
    "s = \"abcabcccbd\"\n",
    "print(longest_substring(s))  # Output: \"cbd\""
   ]
  },
  {
   "cell_type": "code",
   "execution_count": null,
   "id": "7652846a",
   "metadata": {
    "vscode": {
     "languageId": "markdown"
    }
   },
   "outputs": [],
   "source": [
    "# Object-Oriented Programming (OOP) in Python\n",
    "\n",
    "Object-Oriented Programming (OOP) is a programming paradigm that uses objects and classes to structure code. It allows for better organization, reusability, and abstraction.\n",
    "\n",
    "## Key Concepts of OOP\n",
    "\n",
    "1. **Class**: A blueprint for creating objects.\n",
    "2. **Object**: An instance of a class.\n",
    "3. **Encapsulation**: Bundling data and methods within a class.\n",
    "4. **Inheritance**: Deriving a new class from an existing class.\n",
    "5. **Polymorphism**: Using a single interface to represent different types.\n",
    "6. **Abstraction**: Hiding implementation details and exposing only the necessary features.\n",
    "\n",
    "---\n",
    "\n",
    "## Example of OOP in Python\n",
    "\n",
    "### 1. Defining a Class and Creating Objects"
   ]
  },
  {
   "cell_type": "code",
   "execution_count": 20,
   "id": "53c73fac",
   "metadata": {},
   "outputs": [
    {
     "name": "stdout",
     "output_type": "stream",
     "text": [
      "Car is moving\n",
      "Car is moving\n"
     ]
    }
   ],
   "source": [
    "class Car:\n",
    "    def move(self):\n",
    "        print(\"Car is moving\")\n",
    "obj = Car()\n",
    "Car.move(obj) # Calling the method using the class name\n",
    "# or\n",
    "obj.move()"
   ]
  },
  {
   "cell_type": "code",
   "execution_count": 24,
   "id": "5f6501f9",
   "metadata": {},
   "outputs": [
    {
     "name": "stdout",
     "output_type": "stream",
     "text": [
      "Car is moving\n",
      "Bike is moving 20 kilometers\n"
     ]
    }
   ],
   "source": [
    "class Car:\n",
    "    def move():\n",
    "        print(\"Car is moving\")\n",
    "Car.move()\n",
    "\n",
    "class Bike:\n",
    "    def move(km):\n",
    "        print(f\"Bike is moving {km} kilometers\")\n",
    "Bike.move(20)"
   ]
  },
  {
   "cell_type": "code",
   "execution_count": 38,
   "id": "b9790b9d",
   "metadata": {},
   "outputs": [
    {
     "name": "stdout",
     "output_type": "stream",
     "text": [
      "Roll No: 23, ID: 234\n",
      "Roll No: 33, ID: 343\n",
      "<class '__main__.Student'>\n",
      "Raghu Engineering College\n"
     ]
    }
   ],
   "source": [
    "class Student:\n",
    "    college = \"Raghu Engineering College\" # class variable\n",
    "    def __init__(self, rollno, id): # constructor\n",
    "        # self is a reference to the current instance of the class\n",
    "        self.rollno = rollno # instance variable\n",
    "        self.id = id # instance variable\n",
    "    def student_info(self): # instance method\n",
    "        # self is used to access instance variables\n",
    "        print(f\"Roll No: {self.rollno}, ID: {self.id}\")\n",
    "\n",
    "s1=Student(23,234)\n",
    "s1.student_info()\n",
    "s2=Student(22,0)\n",
    "s2.rollno=33\n",
    "s2.id=343\n",
    "s2.student_info()\n",
    "print(type(s1))\n",
    "print(Student.college)"
   ]
  },
  {
   "cell_type": "code",
   "execution_count": 43,
   "id": "5f582758",
   "metadata": {},
   "outputs": [
    {
     "name": "stdout",
     "output_type": "stream",
     "text": [
      "Roll No: 23, ID: 234\n",
      "Trainer Name: John\n"
     ]
    }
   ],
   "source": [
    "class Student:\n",
    "    college = \"Raghu Engineering College\"\n",
    "    def __init__(self, rollno, id):\n",
    "        self.rollno = rollno\n",
    "        self.id = id\n",
    "    def student_info(self):\n",
    "        print(f\"Roll No: {self.rollno}, ID: {self.id}\")\n",
    "    class Trainer:\n",
    "        def __init__(self,name):\n",
    "            self.name = name\n",
    "        def trainer_info(self):\n",
    "            print(f\"Trainer Name: {self.name}\")\n",
    "\n",
    "s1 = Student(23, 234)\n",
    "s1.student_info()\n",
    "t1 = s1.Trainer(\"John\")\n",
    "t1.trainer_info()"
   ]
  },
  {
   "cell_type": "code",
   "execution_count": 46,
   "id": "1ca543e2",
   "metadata": {},
   "outputs": [
    {
     "name": "stdout",
     "output_type": "stream",
     "text": [
      "pavan 23\n",
      "HP i5 8\n"
     ]
    }
   ],
   "source": [
    "class Student:\n",
    "    def __init__(re,name,rollno):\n",
    "        re.name=name\n",
    "        re.rollno=rollno\n",
    "        re.lap=re.Laptop()\n",
    "    def show(self):\n",
    "        print(self.name,self.rollno)\n",
    "        self.lap.show()\n",
    "        \n",
    "    class Laptop:\n",
    "        def __init__(self):\n",
    "            self.brand=\"HP\"\n",
    "            self.cpu=\"i5\"\n",
    "            self.ram=8\n",
    "        def show(self):\n",
    "            print(self.brand,self.cpu,self.ram)\n",
    "s1=Student(\"pavan\",23)\n",
    "s1.show()"
   ]
  },
  {
   "cell_type": "code",
   "execution_count": 62,
   "id": "963248a0",
   "metadata": {},
   "outputs": [
    {
     "name": "stdout",
     "output_type": "stream",
     "text": [
      "2000\n"
     ]
    }
   ],
   "source": [
    "class GrandParent:\n",
    "    def __init__(self):\n",
    "        pass\n",
    "    def asset(self):\n",
    "        print(\"2000\")\n",
    "class Parent(GrandParent):\n",
    "    def asset(self):\n",
    "        super().asset() #print(\"1000\")\n",
    "        \n",
    "g = Parent()\n",
    "g.asset()"
   ]
  },
  {
   "cell_type": "code",
   "execution_count": null,
   "id": "ee3a6ce6",
   "metadata": {},
   "outputs": [
    {
     "name": "stdout",
     "output_type": "stream",
     "text": [
      "[[1, 2], [1, 2, 0], [2, 0, 1], [3]]\n"
     ]
    }
   ],
   "source": [
    "def continuous_pair(arr, target):\n",
    "    result = []\n",
    "    for i in range(len(arr)):\n",
    "        s = 0\n",
    "        subarray = []\n",
    "        for j in range(i, len(arr)):\n",
    "            s += arr[j]\n",
    "            subarray.append(arr[j])\n",
    "            if s == target:\n",
    "                result.append(subarray.copy())\n",
    "    return result\n",
    "\n",
    "l = [1, 2, 0, 1, 3]\n",
    "target_sum = 3\n",
    "\n",
    "output = continuous_pair(l, target_sum)\n",
    "print(output)\n"
   ]
  },
  {
   "cell_type": "code",
   "execution_count": 111,
   "id": "d33641c5",
   "metadata": {},
   "outputs": [
    {
     "name": "stdout",
     "output_type": "stream",
     "text": [
      "3\n",
      "6\n",
      "7\n",
      "9\n",
      "10\n"
     ]
    }
   ],
   "source": [
    "list1 = [2, 4, 8, 11, 5]\n",
    "list1.sort()\n",
    "k = list1[0]\n",
    "for i in range(1,list1[-1]):\n",
    "    #find miss values\n",
    "    if k not in list1:\n",
    "        print(k)\n",
    "    k += 1 # 1 2 3"
   ]
  },
  {
   "cell_type": "code",
   "execution_count": 115,
   "id": "9c5f9553",
   "metadata": {},
   "outputs": [
    {
     "name": "stdout",
     "output_type": "stream",
     "text": [
      "[['eat', 'tea', 'ate'], ['tan', 'nat'], ['bat']]\n"
     ]
    }
   ],
   "source": [
    "list1 = ['eat', 'tea', 'tan', 'ate', 'nat', 'bat']\n",
    "def group_anagrams(strs):\n",
    "    anagrams = {}\n",
    "    for word in strs:\n",
    "        sorted_word = ''.join(sorted(word))\n",
    "        if sorted_word in anagrams:\n",
    "            anagrams[sorted_word].append(word)\n",
    "        else:\n",
    "            anagrams[sorted_word] = [word]\n",
    "    return list(anagrams.values())\n",
    "print(group_anagrams(list1))"
   ]
  },
  {
   "cell_type": "code",
   "execution_count": 127,
   "id": "ae914818",
   "metadata": {},
   "outputs": [
    {
     "name": "stdout",
     "output_type": "stream",
     "text": [
      "[2, 2, 2, 1, 1, 3]\n"
     ]
    }
   ],
   "source": [
    "k = [1,1,2,2,2,3]\n",
    "#print most frequent element first usign dict\n",
    "dl =  {x:k.count(x) for x in k}\n",
    "dl = dict(sorted(dl.items(), key=lambda item: item[1], reverse=True))\n",
    "\n",
    "l = []\n",
    "for i in dl:\n",
    "    for j in range(dl[i]):\n",
    "        l.append(i)\n",
    "print(l)"
   ]
  },
  {
   "cell_type": "code",
   "execution_count": 3,
   "id": "62d7941c",
   "metadata": {},
   "outputs": [
    {
     "name": "stdout",
     "output_type": "stream",
     "text": [
      "1 2 "
     ]
    }
   ],
   "source": [
    "n = list(map(int,input().split()))\n",
    "k,t = n\n",
    "a = list(map(int,input().split()))\n",
    "for i in range(k):\n",
    "    for j in range(i+1,k):\n",
    "        if a[i] + a[j] == t:\n",
    "            print(i,j,end=\" \")\n"
   ]
  },
  {
   "cell_type": "code",
   "execution_count": null,
   "id": "003624a3",
   "metadata": {},
   "outputs": [
    {
     "name": "stdout",
     "output_type": "stream",
     "text": [
      "4 2 1 3 5 "
     ]
    }
   ],
   "source": [
    "#pendulum oscilation\n",
    "n = 5\n",
    "l = [1,3,2,5,4]\n",
    "l.sort(reverse=True)\n",
    "k = [0]*n\n",
    "k[-1] = l[0]\n",
    "d = n - 1\n",
    "t = n - 1\n",
    "for i in range(1, n):\n",
    "    if i % 2 == 1:\n",
    "        t = t - d\n",
    "    else:\n",
    "        t = t + d\n",
    "    k[t] = l[i]\n",
    "    d -= 1\n",
    "for i in range(n):\n",
    "    print(k[i], end=\" \")"
   ]
  },
  {
   "cell_type": "code",
   "execution_count": 6,
   "id": "57b5ffd5",
   "metadata": {},
   "outputs": [
    {
     "name": "stdout",
     "output_type": "stream",
     "text": [
      "(3, 1) (5, 0) (1, 2)\n",
      "(5, 0) (3, 1) (1, 2)\n",
      "(5, 0) (3, 1) (1, 2)\n",
      "[(5, 0), (3, 1), (1, 2)]\n"
     ]
    }
   ],
   "source": [
    "def sort_tup(t):\n",
    "    n = len(t)\n",
    "    for i in range(n):\n",
    "        for j in range(0, n - i - 1):\n",
    "            if t[j][1] > t[j + 1][1]:\n",
    "                temp = t[j]\n",
    "                t[j] = t[j + 1]\n",
    "                t[j + 1] = temp\n",
    "        print(*t)\n",
    "    return t\n",
    "\n",
    "t = [(1, 2), (3, 1), (5, 0)]\n",
    "r = sort_tup(t)\n",
    "print(r)"
   ]
  },
  {
   "cell_type": "code",
   "execution_count": 7,
   "id": "3ea56b8a",
   "metadata": {},
   "outputs": [
    {
     "name": "stdout",
     "output_type": "stream",
     "text": [
      "[2, 2, 2, 1, 1, 3]\n"
     ]
    }
   ],
   "source": [
    "nums = [1, 1, 2, 2, 2, 3]\n",
    "def frequency_sort(nums):\n",
    "    freq_dict = {}\n",
    "    for num in nums:\n",
    "        if num in freq_dict:\n",
    "            freq_dict[num] += 1\n",
    "        else:\n",
    "            freq_dict[num] = 1\n",
    "    nums.sort() \n",
    "    def sort_key(x):\n",
    "        return -freq_dict[x]\n",
    "    # print(freq_dict.items())\n",
    "    nums.sort(key=sort_key)  \n",
    "    # nums = nums[::-1]        \n",
    "    return nums\n",
    "print(frequency_sort(nums))"
   ]
  },
  {
   "cell_type": "code",
   "execution_count": 1,
   "id": "1ba2d135",
   "metadata": {},
   "outputs": [
    {
     "name": "stdout",
     "output_type": "stream",
     "text": [
      "After transpose :  [[1, 4, 7], [2, 5, 8], [3, 6, 9]]\n",
      "after reverse part:  [[7, 4, 1], [8, 5, 2], [9, 6, 3]]\n"
     ]
    }
   ],
   "source": [
    "matrix = [[1,2,3],[4,5,6],[7,8,9]]\n",
    "def rotate_matrix(matrix):\n",
    "    n = len(matrix)\n",
    "    for i in range(n):\n",
    "        for j in range(i+1, n):\n",
    "            temp = matrix[i][j]\n",
    "            matrix[i][j] = matrix[j][i]\n",
    "            matrix[j][i] = temp\n",
    "    print(\"After transpose : \",matrix)\n",
    "    for i in range(n):\n",
    "        start = 0\n",
    "        end = n - 1\n",
    "        while start < end:\n",
    "            temp = matrix[i][start]\n",
    "            matrix[i][start] = matrix[i][end]\n",
    "            matrix[i][end] = temp\n",
    "            start += 1\n",
    "            end -= 1\n",
    "    print(\"after reverse part: \",end=\" \")\n",
    "    return matrix\n",
    "\n",
    "rotate_matrix(matrix)\n",
    "print(matrix)\n"
   ]
  },
  {
   "cell_type": "code",
   "execution_count": null,
   "id": "4cbfc573",
   "metadata": {},
   "outputs": [
    {
     "name": "stdout",
     "output_type": "stream",
     "text": [
      "An error occurred: division by zero\n"
     ]
    }
   ],
   "source": [
    "def catch_all_exceptions():\n",
    "    try:\n",
    "        x = 1 / 0  # This will raise a ZeroDivisionError\n",
    "    except Exception as e:\n",
    "        print(f\"An error occurred: {e}\")\n",
    "catch_all_exceptions()"
   ]
  },
  {
   "cell_type": "code",
   "execution_count": null,
   "id": "82395172",
   "metadata": {},
   "outputs": [
    {
     "name": "stdout",
     "output_type": "stream",
     "text": [
      "Division by zero is not allowed. division by zero\n"
     ]
    }
   ],
   "source": [
    "def basic_try_except():\n",
    "    try:\n",
    "        x = int(input(\"Enter a number: \"))\n",
    "        print(100/x)\n",
    "    except ZeroDivisionError as e:\n",
    "        print(f\"Error: Division by zero is not allowed. {e}\")\n",
    "    except ValueError as e:\n",
    "        print(f\"Error: Invalid input. Please enter a number. {e}\")\n",
    "basic_try_except()"
   ]
  },
  {
   "cell_type": "code",
   "execution_count": null,
   "id": "7fb6f9d9",
   "metadata": {},
   "outputs": [
    {
     "name": "stdout",
     "output_type": "stream",
     "text": [
      "Custom Exception: Number must be positive.\n"
     ]
    }
   ],
   "source": [
    "class CustomException(Exception):\n",
    "    pass\n",
    "\n",
    "def custom_exception_example():\n",
    "    try:\n",
    "        x = int(input(\"Enter a number: \")) # x = 0\n",
    "        if x <= 0:\n",
    "            raise CustomException(\"Number must be positive.\")\n",
    "    except CustomException as e:\n",
    "        print(f\"Custom Exception: {e}\")\n",
    "    else:\n",
    "        print(f\"Valid input: {x}\")\n",
    "        \n",
    "custom_exception_example()"
   ]
  },
  {
   "cell_type": "code",
   "execution_count": 44,
   "id": "c6ec0218",
   "metadata": {},
   "outputs": [
    {
     "name": "stdout",
     "output_type": "stream",
     "text": [
      "Runtime Error: Failed to convert string to int\n",
      "Original Exception: invalid literal for int() with base 10: 'hello'\n"
     ]
    }
   ],
   "source": [
    "def exception_chaining():\n",
    "    try:\n",
    "        try:\n",
    "            x = int(input(\"Enter a number: \")) #x = hello\n",
    "        except ValueError as e:\n",
    "            raise RuntimeError(\"Failed to convert string to int\") from e\n",
    "    except RuntimeError as e:\n",
    "        print(f\"Runtime Error: {e}\")\n",
    "        print(f\"Original Exception: {e.__cause__}\")\n",
    "exception_chaining()"
   ]
  },
  {
   "cell_type": "code",
   "execution_count": null,
   "id": "0977a96f",
   "metadata": {},
   "outputs": [
    {
     "name": "stdout",
     "output_type": "stream",
     "text": [
      "Assertion Error: Zero is not allowed.\n"
     ]
    }
   ],
   "source": [
    "def using_assert():\n",
    "    try:\n",
    "        x = int(input(\"Enter a number: \")) #x = 0\n",
    "        assert x != 0, \"Zero is not allowed.\"\n",
    "        # If the assertion passes, the following code will execute\n",
    "        a = 2 + 3\n",
    "        print(a)\n",
    "    # If the assertion fails, an AssertionError will be raised\n",
    "    except AssertionError as e:\n",
    "        print(f\"Assertion Error: {e}\")\n",
    "    else:\n",
    "        print(\"good input\")\n",
    "using_assert()"
   ]
  },
  {
   "cell_type": "code",
   "execution_count": null,
   "id": "b68d230e",
   "metadata": {},
   "outputs": [
    {
     "name": "stdout",
     "output_type": "stream",
     "text": [
      "Error: Division by zero is not allowed. division by zero\n",
      "This block always executes.\n"
     ]
    }
   ],
   "source": [
    "def finally_block():\n",
    "    try:\n",
    "        x = int(input(\"Enter a number: \")) # x = 0\n",
    "        print(100 / x)\n",
    "    except ZeroDivisionError as e:\n",
    "        print(f\"Error: Division by zero is not allowed. {e}\")\n",
    "    finally:\n",
    "        print(\"This block always executes.\")\n",
    "finally_block()"
   ]
  },
  {
   "cell_type": "code",
   "execution_count": null,
   "id": "ce5a51c9",
   "metadata": {},
   "outputs": [
    {
     "name": "stdout",
     "output_type": "stream",
     "text": [
      "[2, 1, 91]\n",
      "4\n",
      "Generated password: Pavan04@\n",
      "True\n"
     ]
    }
   ],
   "source": [
    "import random\n",
    "name = input(\"Enter your name: \") # rajesh\n",
    "dob = input(\"enter dob: (dd-mm-yyyy): \").split(\"-\") # 02-01-91\n",
    "l = list(map(int, dob))\n",
    "\n",
    "def sum_of_digits(n):\n",
    "    sum = 0\n",
    "    while n > 0:\n",
    "        sum += n % 10\n",
    "        n //= 10\n",
    "    return sum\n",
    "print(l)\n",
    "for i in range(len(l)):\n",
    "    l[i] = sum_of_digits(l[i])\n",
    "res = 0\n",
    "for i in range(len(l)):\n",
    "    res += l[i]\n",
    "k = sum_of_digits(res)\n",
    "print(k)\n",
    "password = name.capitalize() + ('0'+str(k) if k < 10 else str(k)) + random.choice([\"@\", \"#\"])\n",
    "print(f\"Generated password: {password}\")\n",
    "\n",
    "def check_password(password):\n",
    "    upperCaseCount = 0\n",
    "    specialCharCount = 0\n",
    "    for char in password:\n",
    "        if char.isupper():\n",
    "            upperCaseCount += 1\n",
    "        if char in ['@', '#']:\n",
    "            specialCharCount += 1\n",
    "    if upperCaseCount > 0 and specialCharCount > 0:\n",
    "        return True\n",
    "    return False\n",
    "\n",
    "print(check_password(password))\n"
   ]
  },
  {
   "cell_type": "code",
   "execution_count": 45,
   "id": "3848a9e3",
   "metadata": {},
   "outputs": [
    {
     "name": "stdout",
     "output_type": "stream",
     "text": [
      "New length: 2\n",
      "Modified nums: [2, 2]\n"
     ]
    }
   ],
   "source": [
    "from typing import List\n",
    "\n",
    "class Solution:\n",
    "    def removeElement(self, nums: List[int], val: int) -> int:\n",
    "        if val not in nums:\n",
    "            return len(nums)\n",
    "        k = 0  # Pointer to the next position for a valid (non-val) element\n",
    "        for i in range(len(nums)):\n",
    "            if nums[i] != val:\n",
    "                nums[k] = nums[i]  # Move valid element to the front\n",
    "                k += 1\n",
    "        return k\n",
    "\n",
    "sol = Solution()\n",
    "nums = [3, 2, 2, 3]\n",
    "val = 3\n",
    "k = sol.removeElement(nums, val)\n",
    "print(\"New length:\", k)\n",
    "print(\"Modified nums:\", nums[:k])\n"
   ]
  },
  {
   "cell_type": "code",
   "execution_count": 4,
   "id": "b422d5ff",
   "metadata": {},
   "outputs": [
    {
     "name": "stdout",
     "output_type": "stream",
     "text": [
      "[1, 0]\n",
      "[1, 2, 4]\n"
     ]
    }
   ],
   "source": [
    "def plusOne(nums):\n",
    "    k = ''\n",
    "    for i in range(len(nums)):\n",
    "        k += str(nums[i])\n",
    "\n",
    "    # Step 1-2: Convert to int, add 1\n",
    "    t = int(k) + 1\n",
    "\n",
    "    # Step 3: Convert back to list of digits\n",
    "    result = [int(d) for d in str(t)]\n",
    "    \n",
    "    # Step 4: Update nums (resize if necessary)\n",
    "    nums[:] = result\n",
    "    return nums\n",
    "\n",
    "nums = [9]\n",
    "print(plusOne(nums))\n",
    "nums = [1, 2, 3]\n",
    "print(plusOne(nums))"
   ]
  }
 ],
 "metadata": {
  "kernelspec": {
   "display_name": "Python 3",
   "language": "python",
   "name": "python3"
  },
  "language_info": {
   "codemirror_mode": {
    "name": "ipython",
    "version": 3
   },
   "file_extension": ".py",
   "mimetype": "text/x-python",
   "name": "python",
   "nbconvert_exporter": "python",
   "pygments_lexer": "ipython3",
   "version": "3.11.5"
  }
 },
 "nbformat": 4,
 "nbformat_minor": 5
}
